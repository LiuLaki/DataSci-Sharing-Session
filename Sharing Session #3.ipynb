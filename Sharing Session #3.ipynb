{
 "cells": [
  {
   "cell_type": "markdown",
   "metadata": {
    "id": "zs6BAr1Q7-fc"
   },
   "source": [
    "# Deep Dive in Anomaly Detection with Deep Learning\n",
    "**Cyber Data Science Sharing Session #3**"
   ]
  },
  {
   "cell_type": "code",
   "execution_count": 1,
   "metadata": {
    "id": "cgtE_Cnzhf7s"
   },
   "outputs": [],
   "source": [
    "import pandas as pd\n",
    "import numpy as np\n",
    "from sklearn.preprocessing import MinMaxScaler\n",
    "import matplotlib.pyplot as plt\n",
    "import tensorflow as tf\n",
    "from sklearn.metrics import mean_absolute_error\n",
    "import os"
   ]
  },
  {
   "cell_type": "markdown",
   "metadata": {
    "id": "w_cOXmiWj_Az"
   },
   "source": [
    "### 1) Downloading the dataset"
   ]
  },
  {
   "cell_type": "markdown",
   "metadata": {},
   "source": [
    "- The data we used is simulated for **Window Event 4624**, which records each logon event. Actually, ADX Data Lake collects data once one logon happened, which means **each row is one event**.  \n",
    "- However, to catch suspicious attacker, we need to aggregate the ADX data on the user level. \n",
    "- Depending on the event characertics or the project objective, the aggregation can be done on the hour level or day level. For this demo, the data is **aggregated on the daily basis**.\n",
    "- Here, We only take the data for **one user**. Also, only some of the columns are selected for example."
   ]
  },
  {
   "cell_type": "code",
   "execution_count": 2,
   "metadata": {
    "colab": {
     "base_uri": "https://localhost:8080/"
    },
    "id": "edgZZr8fjKoj",
    "outputId": "c458a378-163f-4a1a-eaa4-6231cef0799e"
   },
   "outputs": [
    {
     "data": {
      "text/html": [
       "<div>\n",
       "<style scoped>\n",
       "    .dataframe tbody tr th:only-of-type {\n",
       "        vertical-align: middle;\n",
       "    }\n",
       "\n",
       "    .dataframe tbody tr th {\n",
       "        vertical-align: top;\n",
       "    }\n",
       "\n",
       "    .dataframe thead th {\n",
       "        text-align: right;\n",
       "    }\n",
       "</style>\n",
       "<table border=\"1\" class=\"dataframe\">\n",
       "  <thead>\n",
       "    <tr style=\"text-align: right;\">\n",
       "      <th></th>\n",
       "      <th>datetime</th>\n",
       "      <th>nb_ip</th>\n",
       "      <th>avg_time_interval</th>\n",
       "      <th>nb_logon</th>\n",
       "      <th>nb_event_categories</th>\n",
       "      <th>nb_domain</th>\n",
       "      <th>nb_fail_logon</th>\n",
       "      <th>nb_programs</th>\n",
       "    </tr>\n",
       "  </thead>\n",
       "  <tbody>\n",
       "    <tr>\n",
       "      <th>0</th>\n",
       "      <td>2009-07-15</td>\n",
       "      <td>0.0</td>\n",
       "      <td>0.0</td>\n",
       "      <td>242.0</td>\n",
       "      <td>2.0</td>\n",
       "      <td>1.0</td>\n",
       "      <td>1.0</td>\n",
       "      <td>4.0</td>\n",
       "    </tr>\n",
       "    <tr>\n",
       "      <th>1</th>\n",
       "      <td>2009-07-16</td>\n",
       "      <td>0.0</td>\n",
       "      <td>0.0</td>\n",
       "      <td>242.0</td>\n",
       "      <td>2.0</td>\n",
       "      <td>0.0</td>\n",
       "      <td>1.0</td>\n",
       "      <td>3.0</td>\n",
       "    </tr>\n",
       "    <tr>\n",
       "      <th>2</th>\n",
       "      <td>2009-07-17</td>\n",
       "      <td>1.0</td>\n",
       "      <td>0.0</td>\n",
       "      <td>242.0</td>\n",
       "      <td>2.0</td>\n",
       "      <td>0.0</td>\n",
       "      <td>0.0</td>\n",
       "      <td>5.0</td>\n",
       "    </tr>\n",
       "    <tr>\n",
       "      <th>3</th>\n",
       "      <td>2009-07-18</td>\n",
       "      <td>1.0</td>\n",
       "      <td>0.0</td>\n",
       "      <td>242.0</td>\n",
       "      <td>3.0</td>\n",
       "      <td>0.0</td>\n",
       "      <td>0.0</td>\n",
       "      <td>4.0</td>\n",
       "    </tr>\n",
       "    <tr>\n",
       "      <th>4</th>\n",
       "      <td>2009-07-19</td>\n",
       "      <td>1.0</td>\n",
       "      <td>0.0</td>\n",
       "      <td>242.0</td>\n",
       "      <td>4.0</td>\n",
       "      <td>0.0</td>\n",
       "      <td>0.0</td>\n",
       "      <td>4.0</td>\n",
       "    </tr>\n",
       "    <tr>\n",
       "      <th>...</th>\n",
       "      <td>...</td>\n",
       "      <td>...</td>\n",
       "      <td>...</td>\n",
       "      <td>...</td>\n",
       "      <td>...</td>\n",
       "      <td>...</td>\n",
       "      <td>...</td>\n",
       "      <td>...</td>\n",
       "    </tr>\n",
       "    <tr>\n",
       "      <th>495</th>\n",
       "      <td>2010-11-22</td>\n",
       "      <td>1.0</td>\n",
       "      <td>0.0</td>\n",
       "      <td>240.0</td>\n",
       "      <td>6.0</td>\n",
       "      <td>3.0</td>\n",
       "      <td>1.0</td>\n",
       "      <td>7.0</td>\n",
       "    </tr>\n",
       "    <tr>\n",
       "      <th>496</th>\n",
       "      <td>2010-11-23</td>\n",
       "      <td>1.0</td>\n",
       "      <td>0.0</td>\n",
       "      <td>241.0</td>\n",
       "      <td>5.0</td>\n",
       "      <td>1.0</td>\n",
       "      <td>0.0</td>\n",
       "      <td>5.0</td>\n",
       "    </tr>\n",
       "    <tr>\n",
       "      <th>497</th>\n",
       "      <td>2010-11-24</td>\n",
       "      <td>1.0</td>\n",
       "      <td>0.0</td>\n",
       "      <td>240.0</td>\n",
       "      <td>5.0</td>\n",
       "      <td>1.0</td>\n",
       "      <td>2.0</td>\n",
       "      <td>8.0</td>\n",
       "    </tr>\n",
       "    <tr>\n",
       "      <th>498</th>\n",
       "      <td>2010-11-25</td>\n",
       "      <td>1.0</td>\n",
       "      <td>0.0</td>\n",
       "      <td>242.0</td>\n",
       "      <td>4.0</td>\n",
       "      <td>1.0</td>\n",
       "      <td>0.0</td>\n",
       "      <td>4.0</td>\n",
       "    </tr>\n",
       "    <tr>\n",
       "      <th>499</th>\n",
       "      <td>2010-11-26</td>\n",
       "      <td>1.0</td>\n",
       "      <td>0.0</td>\n",
       "      <td>240.0</td>\n",
       "      <td>5.0</td>\n",
       "      <td>1.0</td>\n",
       "      <td>0.0</td>\n",
       "      <td>8.0</td>\n",
       "    </tr>\n",
       "  </tbody>\n",
       "</table>\n",
       "<p>500 rows × 8 columns</p>\n",
       "</div>"
      ],
      "text/plain": [
       "       datetime  nb_ip  avg_time_interval  nb_logon  nb_event_categories  \\\n",
       "0    2009-07-15    0.0                0.0     242.0                  2.0   \n",
       "1    2009-07-16    0.0                0.0     242.0                  2.0   \n",
       "2    2009-07-17    1.0                0.0     242.0                  2.0   \n",
       "3    2009-07-18    1.0                0.0     242.0                  3.0   \n",
       "4    2009-07-19    1.0                0.0     242.0                  4.0   \n",
       "..          ...    ...                ...       ...                  ...   \n",
       "495  2010-11-22    1.0                0.0     240.0                  6.0   \n",
       "496  2010-11-23    1.0                0.0     241.0                  5.0   \n",
       "497  2010-11-24    1.0                0.0     240.0                  5.0   \n",
       "498  2010-11-25    1.0                0.0     242.0                  4.0   \n",
       "499  2010-11-26    1.0                0.0     240.0                  5.0   \n",
       "\n",
       "     nb_domain  nb_fail_logon  nb_programs  \n",
       "0          1.0            1.0          4.0  \n",
       "1          0.0            1.0          3.0  \n",
       "2          0.0            0.0          5.0  \n",
       "3          0.0            0.0          4.0  \n",
       "4          0.0            0.0          4.0  \n",
       "..         ...            ...          ...  \n",
       "495        3.0            1.0          7.0  \n",
       "496        1.0            0.0          5.0  \n",
       "497        1.0            2.0          8.0  \n",
       "498        1.0            0.0          4.0  \n",
       "499        1.0            0.0          8.0  \n",
       "\n",
       "[500 rows x 8 columns]"
      ]
     },
     "execution_count": 2,
     "metadata": {},
     "output_type": "execute_result"
    }
   ],
   "source": [
    "daily_df = pd.read_csv('https://raw.githubusercontent.com/LiuLaki/DataSci-Sharing-Session/main/user_data.csv')\n",
    "daily_df"
   ]
  },
  {
   "cell_type": "markdown",
   "metadata": {
    "id": "w_cOXmiWj_Az"
   },
   "source": [
    "### 2) Data Processing"
   ]
  },
  {
   "cell_type": "markdown",
   "metadata": {},
   "source": [
    "- Data Cleaning : Deep Learning Neural Network models **only accept numrical data**. All the data in forms of string, text, date time should be transformed into numbers."
   ]
  },
  {
   "cell_type": "code",
   "execution_count": 3,
   "metadata": {},
   "outputs": [
    {
     "data": {
      "text/html": [
       "<div>\n",
       "<style scoped>\n",
       "    .dataframe tbody tr th:only-of-type {\n",
       "        vertical-align: middle;\n",
       "    }\n",
       "\n",
       "    .dataframe tbody tr th {\n",
       "        vertical-align: top;\n",
       "    }\n",
       "\n",
       "    .dataframe thead th {\n",
       "        text-align: right;\n",
       "    }\n",
       "</style>\n",
       "<table border=\"1\" class=\"dataframe\">\n",
       "  <thead>\n",
       "    <tr style=\"text-align: right;\">\n",
       "      <th></th>\n",
       "      <th>nb_ip</th>\n",
       "      <th>avg_time_interval</th>\n",
       "      <th>nb_logon</th>\n",
       "      <th>nb_event_categories</th>\n",
       "      <th>nb_domain</th>\n",
       "      <th>nb_fail_logon</th>\n",
       "      <th>nb_programs</th>\n",
       "    </tr>\n",
       "    <tr>\n",
       "      <th>datetime</th>\n",
       "      <th></th>\n",
       "      <th></th>\n",
       "      <th></th>\n",
       "      <th></th>\n",
       "      <th></th>\n",
       "      <th></th>\n",
       "      <th></th>\n",
       "    </tr>\n",
       "  </thead>\n",
       "  <tbody>\n",
       "    <tr>\n",
       "      <th>2009-07-15</th>\n",
       "      <td>0.0</td>\n",
       "      <td>0.0</td>\n",
       "      <td>242.0</td>\n",
       "      <td>2.0</td>\n",
       "      <td>1.0</td>\n",
       "      <td>1.0</td>\n",
       "      <td>4.0</td>\n",
       "    </tr>\n",
       "    <tr>\n",
       "      <th>2009-07-16</th>\n",
       "      <td>0.0</td>\n",
       "      <td>0.0</td>\n",
       "      <td>242.0</td>\n",
       "      <td>2.0</td>\n",
       "      <td>0.0</td>\n",
       "      <td>1.0</td>\n",
       "      <td>3.0</td>\n",
       "    </tr>\n",
       "    <tr>\n",
       "      <th>2009-07-17</th>\n",
       "      <td>1.0</td>\n",
       "      <td>0.0</td>\n",
       "      <td>242.0</td>\n",
       "      <td>2.0</td>\n",
       "      <td>0.0</td>\n",
       "      <td>0.0</td>\n",
       "      <td>5.0</td>\n",
       "    </tr>\n",
       "    <tr>\n",
       "      <th>2009-07-18</th>\n",
       "      <td>1.0</td>\n",
       "      <td>0.0</td>\n",
       "      <td>242.0</td>\n",
       "      <td>3.0</td>\n",
       "      <td>0.0</td>\n",
       "      <td>0.0</td>\n",
       "      <td>4.0</td>\n",
       "    </tr>\n",
       "    <tr>\n",
       "      <th>2009-07-19</th>\n",
       "      <td>1.0</td>\n",
       "      <td>0.0</td>\n",
       "      <td>242.0</td>\n",
       "      <td>4.0</td>\n",
       "      <td>0.0</td>\n",
       "      <td>0.0</td>\n",
       "      <td>4.0</td>\n",
       "    </tr>\n",
       "    <tr>\n",
       "      <th>...</th>\n",
       "      <td>...</td>\n",
       "      <td>...</td>\n",
       "      <td>...</td>\n",
       "      <td>...</td>\n",
       "      <td>...</td>\n",
       "      <td>...</td>\n",
       "      <td>...</td>\n",
       "    </tr>\n",
       "    <tr>\n",
       "      <th>2010-11-22</th>\n",
       "      <td>1.0</td>\n",
       "      <td>0.0</td>\n",
       "      <td>240.0</td>\n",
       "      <td>6.0</td>\n",
       "      <td>3.0</td>\n",
       "      <td>1.0</td>\n",
       "      <td>7.0</td>\n",
       "    </tr>\n",
       "    <tr>\n",
       "      <th>2010-11-23</th>\n",
       "      <td>1.0</td>\n",
       "      <td>0.0</td>\n",
       "      <td>241.0</td>\n",
       "      <td>5.0</td>\n",
       "      <td>1.0</td>\n",
       "      <td>0.0</td>\n",
       "      <td>5.0</td>\n",
       "    </tr>\n",
       "    <tr>\n",
       "      <th>2010-11-24</th>\n",
       "      <td>1.0</td>\n",
       "      <td>0.0</td>\n",
       "      <td>240.0</td>\n",
       "      <td>5.0</td>\n",
       "      <td>1.0</td>\n",
       "      <td>2.0</td>\n",
       "      <td>8.0</td>\n",
       "    </tr>\n",
       "    <tr>\n",
       "      <th>2010-11-25</th>\n",
       "      <td>1.0</td>\n",
       "      <td>0.0</td>\n",
       "      <td>242.0</td>\n",
       "      <td>4.0</td>\n",
       "      <td>1.0</td>\n",
       "      <td>0.0</td>\n",
       "      <td>4.0</td>\n",
       "    </tr>\n",
       "    <tr>\n",
       "      <th>2010-11-26</th>\n",
       "      <td>1.0</td>\n",
       "      <td>0.0</td>\n",
       "      <td>240.0</td>\n",
       "      <td>5.0</td>\n",
       "      <td>1.0</td>\n",
       "      <td>0.0</td>\n",
       "      <td>8.0</td>\n",
       "    </tr>\n",
       "  </tbody>\n",
       "</table>\n",
       "<p>500 rows × 7 columns</p>\n",
       "</div>"
      ],
      "text/plain": [
       "            nb_ip  avg_time_interval  nb_logon  nb_event_categories  \\\n",
       "datetime                                                              \n",
       "2009-07-15    0.0                0.0     242.0                  2.0   \n",
       "2009-07-16    0.0                0.0     242.0                  2.0   \n",
       "2009-07-17    1.0                0.0     242.0                  2.0   \n",
       "2009-07-18    1.0                0.0     242.0                  3.0   \n",
       "2009-07-19    1.0                0.0     242.0                  4.0   \n",
       "...           ...                ...       ...                  ...   \n",
       "2010-11-22    1.0                0.0     240.0                  6.0   \n",
       "2010-11-23    1.0                0.0     241.0                  5.0   \n",
       "2010-11-24    1.0                0.0     240.0                  5.0   \n",
       "2010-11-25    1.0                0.0     242.0                  4.0   \n",
       "2010-11-26    1.0                0.0     240.0                  5.0   \n",
       "\n",
       "            nb_domain  nb_fail_logon  nb_programs  \n",
       "datetime                                           \n",
       "2009-07-15        1.0            1.0          4.0  \n",
       "2009-07-16        0.0            1.0          3.0  \n",
       "2009-07-17        0.0            0.0          5.0  \n",
       "2009-07-18        0.0            0.0          4.0  \n",
       "2009-07-19        0.0            0.0          4.0  \n",
       "...               ...            ...          ...  \n",
       "2010-11-22        3.0            1.0          7.0  \n",
       "2010-11-23        1.0            0.0          5.0  \n",
       "2010-11-24        1.0            2.0          8.0  \n",
       "2010-11-25        1.0            0.0          4.0  \n",
       "2010-11-26        1.0            0.0          8.0  \n",
       "\n",
       "[500 rows x 7 columns]"
      ]
     },
     "execution_count": 3,
     "metadata": {},
     "output_type": "execute_result"
    }
   ],
   "source": [
    "daily_df = daily_df.set_index('datetime')\n",
    "daily_df"
   ]
  },
  {
   "cell_type": "markdown",
   "metadata": {},
   "source": [
    "#### 2.1 Train Test Split"
   ]
  },
  {
   "cell_type": "markdown",
   "metadata": {},
   "source": [
    "- We need to split the overall dataset into two parts - train and test. We will use train data to train the Deep Learning models, and use the test dataset to see the performance. **The objective is to make sure the model we trained can be generalised to other dataset**."
   ]
  },
  {
   "cell_type": "code",
   "execution_count": 4,
   "metadata": {},
   "outputs": [
    {
     "data": {
      "text/plain": [
       "((374, 7), (125, 7))"
      ]
     },
     "execution_count": 4,
     "metadata": {},
     "output_type": "execute_result"
    }
   ],
   "source": [
    "# Split Ratio : 75% of Data to train, 25% of Data to test\n",
    "thres = int(daily_df.shape[0]*0.75)\n",
    "train_df,test_df = daily_df[1:thres], daily_df[thres:]\n",
    "train_df.shape,test_df.shape"
   ]
  },
  {
   "cell_type": "markdown",
   "metadata": {},
   "source": [
    "#### 2.2 Scaling : MinMax Scaler\n",
    "\n",
    "- Reasons : Deep Neural Networks are **very sentitive to the number scale**. To minimize the error, we should scale all the data in the specific range by different types of scalers."
   ]
  },
  {
   "cell_type": "code",
   "execution_count": 5,
   "metadata": {
    "scrolled": true
   },
   "outputs": [
    {
     "name": "stderr",
     "output_type": "stream",
     "text": [
      "/tmp/ipykernel_57076/1434863843.py:9: SettingWithCopyWarning: \n",
      "A value is trying to be set on a copy of a slice from a DataFrame.\n",
      "Try using .loc[row_indexer,col_indexer] = value instead\n",
      "\n",
      "See the caveats in the documentation: https://pandas.pydata.org/pandas-docs/stable/user_guide/indexing.html#returning-a-view-versus-a-copy\n",
      "  train[i]=s_s\n",
      "/tmp/ipykernel_57076/1434863843.py:9: SettingWithCopyWarning: \n",
      "A value is trying to be set on a copy of a slice from a DataFrame.\n",
      "Try using .loc[row_indexer,col_indexer] = value instead\n",
      "\n",
      "See the caveats in the documentation: https://pandas.pydata.org/pandas-docs/stable/user_guide/indexing.html#returning-a-view-versus-a-copy\n",
      "  train[i]=s_s\n",
      "/tmp/ipykernel_57076/1434863843.py:9: SettingWithCopyWarning: \n",
      "A value is trying to be set on a copy of a slice from a DataFrame.\n",
      "Try using .loc[row_indexer,col_indexer] = value instead\n",
      "\n",
      "See the caveats in the documentation: https://pandas.pydata.org/pandas-docs/stable/user_guide/indexing.html#returning-a-view-versus-a-copy\n",
      "  train[i]=s_s\n",
      "/tmp/ipykernel_57076/1434863843.py:9: SettingWithCopyWarning: \n",
      "A value is trying to be set on a copy of a slice from a DataFrame.\n",
      "Try using .loc[row_indexer,col_indexer] = value instead\n",
      "\n",
      "See the caveats in the documentation: https://pandas.pydata.org/pandas-docs/stable/user_guide/indexing.html#returning-a-view-versus-a-copy\n",
      "  train[i]=s_s\n",
      "/tmp/ipykernel_57076/1434863843.py:9: SettingWithCopyWarning: \n",
      "A value is trying to be set on a copy of a slice from a DataFrame.\n",
      "Try using .loc[row_indexer,col_indexer] = value instead\n",
      "\n",
      "See the caveats in the documentation: https://pandas.pydata.org/pandas-docs/stable/user_guide/indexing.html#returning-a-view-versus-a-copy\n",
      "  train[i]=s_s\n",
      "/tmp/ipykernel_57076/1434863843.py:9: SettingWithCopyWarning: \n",
      "A value is trying to be set on a copy of a slice from a DataFrame.\n",
      "Try using .loc[row_indexer,col_indexer] = value instead\n",
      "\n",
      "See the caveats in the documentation: https://pandas.pydata.org/pandas-docs/stable/user_guide/indexing.html#returning-a-view-versus-a-copy\n",
      "  train[i]=s_s\n",
      "/tmp/ipykernel_57076/1434863843.py:9: SettingWithCopyWarning: \n",
      "A value is trying to be set on a copy of a slice from a DataFrame.\n",
      "Try using .loc[row_indexer,col_indexer] = value instead\n",
      "\n",
      "See the caveats in the documentation: https://pandas.pydata.org/pandas-docs/stable/user_guide/indexing.html#returning-a-view-versus-a-copy\n",
      "  train[i]=s_s\n",
      "/tmp/ipykernel_57076/1434863843.py:17: SettingWithCopyWarning: \n",
      "A value is trying to be set on a copy of a slice from a DataFrame.\n",
      "Try using .loc[row_indexer,col_indexer] = value instead\n",
      "\n",
      "See the caveats in the documentation: https://pandas.pydata.org/pandas-docs/stable/user_guide/indexing.html#returning-a-view-versus-a-copy\n",
      "  test[i]=s_s\n",
      "/tmp/ipykernel_57076/1434863843.py:17: SettingWithCopyWarning: \n",
      "A value is trying to be set on a copy of a slice from a DataFrame.\n",
      "Try using .loc[row_indexer,col_indexer] = value instead\n",
      "\n",
      "See the caveats in the documentation: https://pandas.pydata.org/pandas-docs/stable/user_guide/indexing.html#returning-a-view-versus-a-copy\n",
      "  test[i]=s_s\n",
      "/tmp/ipykernel_57076/1434863843.py:17: SettingWithCopyWarning: \n",
      "A value is trying to be set on a copy of a slice from a DataFrame.\n",
      "Try using .loc[row_indexer,col_indexer] = value instead\n",
      "\n",
      "See the caveats in the documentation: https://pandas.pydata.org/pandas-docs/stable/user_guide/indexing.html#returning-a-view-versus-a-copy\n",
      "  test[i]=s_s\n",
      "/tmp/ipykernel_57076/1434863843.py:17: SettingWithCopyWarning: \n",
      "A value is trying to be set on a copy of a slice from a DataFrame.\n",
      "Try using .loc[row_indexer,col_indexer] = value instead\n",
      "\n",
      "See the caveats in the documentation: https://pandas.pydata.org/pandas-docs/stable/user_guide/indexing.html#returning-a-view-versus-a-copy\n",
      "  test[i]=s_s\n",
      "/tmp/ipykernel_57076/1434863843.py:17: SettingWithCopyWarning: \n",
      "A value is trying to be set on a copy of a slice from a DataFrame.\n",
      "Try using .loc[row_indexer,col_indexer] = value instead\n",
      "\n",
      "See the caveats in the documentation: https://pandas.pydata.org/pandas-docs/stable/user_guide/indexing.html#returning-a-view-versus-a-copy\n",
      "  test[i]=s_s\n",
      "/tmp/ipykernel_57076/1434863843.py:17: SettingWithCopyWarning: \n",
      "A value is trying to be set on a copy of a slice from a DataFrame.\n",
      "Try using .loc[row_indexer,col_indexer] = value instead\n",
      "\n",
      "See the caveats in the documentation: https://pandas.pydata.org/pandas-docs/stable/user_guide/indexing.html#returning-a-view-versus-a-copy\n",
      "  test[i]=s_s\n",
      "/tmp/ipykernel_57076/1434863843.py:17: SettingWithCopyWarning: \n",
      "A value is trying to be set on a copy of a slice from a DataFrame.\n",
      "Try using .loc[row_indexer,col_indexer] = value instead\n",
      "\n",
      "See the caveats in the documentation: https://pandas.pydata.org/pandas-docs/stable/user_guide/indexing.html#returning-a-view-versus-a-copy\n",
      "  test[i]=s_s\n"
     ]
    }
   ],
   "source": [
    "train = train_df\n",
    "scalers={}\n",
    "\n",
    "for i in train_df.columns:\n",
    "    scaler = MinMaxScaler(feature_range=(0,1))\n",
    "    s_s = scaler.fit_transform(train[i].values.reshape(-1,1))\n",
    "    s_s=np.reshape(s_s,len(s_s))\n",
    "    scalers['scaler_'+ i] = scaler\n",
    "    train[i]=s_s\n",
    "\n",
    "test = test_df\n",
    "for i in train_df.columns:\n",
    "    scaler = scalers['scaler_'+i]\n",
    "    s_s = scaler.transform(test[i].values.reshape(-1,1))\n",
    "    s_s=np.reshape(s_s,len(s_s))\n",
    "    scalers['scaler_'+i] = scaler\n",
    "    test[i]=s_s"
   ]
  },
  {
   "cell_type": "code",
   "execution_count": 6,
   "metadata": {},
   "outputs": [
    {
     "data": {
      "text/html": [
       "<div>\n",
       "<style scoped>\n",
       "    .dataframe tbody tr th:only-of-type {\n",
       "        vertical-align: middle;\n",
       "    }\n",
       "\n",
       "    .dataframe tbody tr th {\n",
       "        vertical-align: top;\n",
       "    }\n",
       "\n",
       "    .dataframe thead th {\n",
       "        text-align: right;\n",
       "    }\n",
       "</style>\n",
       "<table border=\"1\" class=\"dataframe\">\n",
       "  <thead>\n",
       "    <tr style=\"text-align: right;\">\n",
       "      <th></th>\n",
       "      <th>nb_ip</th>\n",
       "      <th>avg_time_interval</th>\n",
       "      <th>nb_logon</th>\n",
       "      <th>nb_event_categories</th>\n",
       "      <th>nb_domain</th>\n",
       "      <th>nb_fail_logon</th>\n",
       "      <th>nb_programs</th>\n",
       "    </tr>\n",
       "    <tr>\n",
       "      <th>datetime</th>\n",
       "      <th></th>\n",
       "      <th></th>\n",
       "      <th></th>\n",
       "      <th></th>\n",
       "      <th></th>\n",
       "      <th></th>\n",
       "      <th></th>\n",
       "    </tr>\n",
       "  </thead>\n",
       "  <tbody>\n",
       "    <tr>\n",
       "      <th>2009-07-16</th>\n",
       "      <td>0.0</td>\n",
       "      <td>0.0</td>\n",
       "      <td>0.545455</td>\n",
       "      <td>0.000000</td>\n",
       "      <td>0.000</td>\n",
       "      <td>0.166667</td>\n",
       "      <td>0.071429</td>\n",
       "    </tr>\n",
       "    <tr>\n",
       "      <th>2009-07-17</th>\n",
       "      <td>0.5</td>\n",
       "      <td>0.0</td>\n",
       "      <td>0.545455</td>\n",
       "      <td>0.000000</td>\n",
       "      <td>0.000</td>\n",
       "      <td>0.000000</td>\n",
       "      <td>0.214286</td>\n",
       "    </tr>\n",
       "    <tr>\n",
       "      <th>2009-07-18</th>\n",
       "      <td>0.5</td>\n",
       "      <td>0.0</td>\n",
       "      <td>0.545455</td>\n",
       "      <td>0.166667</td>\n",
       "      <td>0.000</td>\n",
       "      <td>0.000000</td>\n",
       "      <td>0.142857</td>\n",
       "    </tr>\n",
       "    <tr>\n",
       "      <th>2009-07-19</th>\n",
       "      <td>0.5</td>\n",
       "      <td>0.0</td>\n",
       "      <td>0.545455</td>\n",
       "      <td>0.333333</td>\n",
       "      <td>0.000</td>\n",
       "      <td>0.000000</td>\n",
       "      <td>0.142857</td>\n",
       "    </tr>\n",
       "    <tr>\n",
       "      <th>2009-07-20</th>\n",
       "      <td>0.0</td>\n",
       "      <td>0.0</td>\n",
       "      <td>0.545455</td>\n",
       "      <td>0.000000</td>\n",
       "      <td>0.125</td>\n",
       "      <td>0.166667</td>\n",
       "      <td>0.071429</td>\n",
       "    </tr>\n",
       "    <tr>\n",
       "      <th>...</th>\n",
       "      <td>...</td>\n",
       "      <td>...</td>\n",
       "      <td>...</td>\n",
       "      <td>...</td>\n",
       "      <td>...</td>\n",
       "      <td>...</td>\n",
       "      <td>...</td>\n",
       "    </tr>\n",
       "    <tr>\n",
       "      <th>2010-07-20</th>\n",
       "      <td>0.5</td>\n",
       "      <td>0.0</td>\n",
       "      <td>0.545455</td>\n",
       "      <td>0.166667</td>\n",
       "      <td>0.000</td>\n",
       "      <td>0.000000</td>\n",
       "      <td>0.142857</td>\n",
       "    </tr>\n",
       "    <tr>\n",
       "      <th>2010-07-21</th>\n",
       "      <td>0.5</td>\n",
       "      <td>0.0</td>\n",
       "      <td>0.545455</td>\n",
       "      <td>0.166667</td>\n",
       "      <td>0.125</td>\n",
       "      <td>0.000000</td>\n",
       "      <td>0.142857</td>\n",
       "    </tr>\n",
       "    <tr>\n",
       "      <th>2010-07-22</th>\n",
       "      <td>0.5</td>\n",
       "      <td>0.0</td>\n",
       "      <td>0.454545</td>\n",
       "      <td>0.333333</td>\n",
       "      <td>0.000</td>\n",
       "      <td>0.166667</td>\n",
       "      <td>0.142857</td>\n",
       "    </tr>\n",
       "    <tr>\n",
       "      <th>2010-07-23</th>\n",
       "      <td>0.5</td>\n",
       "      <td>0.0</td>\n",
       "      <td>0.363636</td>\n",
       "      <td>0.333333</td>\n",
       "      <td>0.125</td>\n",
       "      <td>0.166667</td>\n",
       "      <td>0.285714</td>\n",
       "    </tr>\n",
       "    <tr>\n",
       "      <th>2010-07-24</th>\n",
       "      <td>0.5</td>\n",
       "      <td>0.0</td>\n",
       "      <td>0.363636</td>\n",
       "      <td>0.166667</td>\n",
       "      <td>0.000</td>\n",
       "      <td>0.166667</td>\n",
       "      <td>0.071429</td>\n",
       "    </tr>\n",
       "  </tbody>\n",
       "</table>\n",
       "<p>374 rows × 7 columns</p>\n",
       "</div>"
      ],
      "text/plain": [
       "            nb_ip  avg_time_interval  nb_logon  nb_event_categories  \\\n",
       "datetime                                                              \n",
       "2009-07-16    0.0                0.0  0.545455             0.000000   \n",
       "2009-07-17    0.5                0.0  0.545455             0.000000   \n",
       "2009-07-18    0.5                0.0  0.545455             0.166667   \n",
       "2009-07-19    0.5                0.0  0.545455             0.333333   \n",
       "2009-07-20    0.0                0.0  0.545455             0.000000   \n",
       "...           ...                ...       ...                  ...   \n",
       "2010-07-20    0.5                0.0  0.545455             0.166667   \n",
       "2010-07-21    0.5                0.0  0.545455             0.166667   \n",
       "2010-07-22    0.5                0.0  0.454545             0.333333   \n",
       "2010-07-23    0.5                0.0  0.363636             0.333333   \n",
       "2010-07-24    0.5                0.0  0.363636             0.166667   \n",
       "\n",
       "            nb_domain  nb_fail_logon  nb_programs  \n",
       "datetime                                           \n",
       "2009-07-16      0.000       0.166667     0.071429  \n",
       "2009-07-17      0.000       0.000000     0.214286  \n",
       "2009-07-18      0.000       0.000000     0.142857  \n",
       "2009-07-19      0.000       0.000000     0.142857  \n",
       "2009-07-20      0.125       0.166667     0.071429  \n",
       "...               ...            ...          ...  \n",
       "2010-07-20      0.000       0.000000     0.142857  \n",
       "2010-07-21      0.125       0.000000     0.142857  \n",
       "2010-07-22      0.000       0.166667     0.142857  \n",
       "2010-07-23      0.125       0.166667     0.285714  \n",
       "2010-07-24      0.000       0.166667     0.071429  \n",
       "\n",
       "[374 rows x 7 columns]"
      ]
     },
     "execution_count": 6,
     "metadata": {},
     "output_type": "execute_result"
    }
   ],
   "source": [
    "train"
   ]
  },
  {
   "cell_type": "markdown",
   "metadata": {
    "id": "w_cOXmiWj_Az"
   },
   "source": [
    "### 3) LSTM Model Preparation : Sequence Data"
   ]
  },
  {
   "cell_type": "markdown",
   "metadata": {},
   "source": [
    "- Recall LSTM : **Long Short Term Memory (LSTM)** is one type of **Recurrent Neural Network (RNN)**. For a time series data, LSTM can predict the next occurance by **remembering the previous important information** and **forgetting unimportant information.**"
   ]
  },
  {
   "cell_type": "markdown",
   "metadata": {},
   "source": [
    "- **Hyperparameters** mean the parameters that are not a part of models - there is no academical way to set, but there are some data science techniques to help find the most optimal one. "
   ]
  },
  {
   "cell_type": "markdown",
   "metadata": {},
   "source": [
    "- **Most Import Hyperparameters in LSTM :** the number of sequqnce elements we look back, and the number of sequence elements we are going to predict"
   ]
  },
  {
   "cell_type": "code",
   "execution_count": 7,
   "metadata": {
    "id": "95DRaJDAiAzj"
   },
   "outputs": [],
   "source": [
    "# For this case, let's assume that\n",
    "# Given past 10 days observation, forecast the next 5 days observations. \n",
    "n_past = 10\n",
    "n_future = 5 \n",
    "n_features = 7"
   ]
  },
  {
   "cell_type": "code",
   "execution_count": 8,
   "metadata": {
    "id": "6axUcusZhvzK"
   },
   "outputs": [],
   "source": [
    "def split_series(series, n_past, n_future):\n",
    "  #\n",
    "  # n_past ==> no of past observations\n",
    "  #\n",
    "  # n_future ==> no of future observations \n",
    "  #\n",
    "  X, y = list(), list()\n",
    "  for window_start in range(len(series)):\n",
    "    past_end = window_start + n_past\n",
    "    future_end = past_end + n_future\n",
    "    if future_end > len(series):\n",
    "      break\n",
    "    # slicing the past and future parts of the window\n",
    "    past, future = series[window_start:past_end, :], series[past_end:future_end, :]\n",
    "    X.append(past)\n",
    "    y.append(future)\n",
    "  return np.array(X), np.array(y)"
   ]
  },
  {
   "cell_type": "code",
   "execution_count": 9,
   "metadata": {
    "id": "BOHlFWgVidl_"
   },
   "outputs": [],
   "source": [
    "X_train, y_train = split_series(train.values,n_past, n_future)\n",
    "X_train = X_train.reshape((X_train.shape[0], X_train.shape[1],n_features))\n",
    "y_train = y_train.reshape((y_train.shape[0], y_train.shape[1], n_features))\n",
    "\n",
    "X_test, y_test = split_series(test.values,n_past, n_future)\n",
    "X_test = X_test.reshape((X_test.shape[0], X_test.shape[1],n_features))\n",
    "y_test = y_test.reshape((y_test.shape[0], y_test.shape[1], n_features))"
   ]
  },
  {
   "cell_type": "code",
   "execution_count": 10,
   "metadata": {
    "colab": {
     "base_uri": "https://localhost:8080/"
    },
    "id": "c0rBKOD_8L6j",
    "outputId": "106698f4-5dd5-47b6-aa1d-3430432570a1"
   },
   "outputs": [
    {
     "data": {
      "text/plain": [
       "array([[0.        , 0.        , 0.54545455, 0.        , 0.        ,\n",
       "        0.16666667, 0.07142857],\n",
       "       [0.5       , 0.        , 0.54545455, 0.        , 0.        ,\n",
       "        0.        , 0.21428571],\n",
       "       [0.5       , 0.        , 0.54545455, 0.16666667, 0.        ,\n",
       "        0.        , 0.14285714],\n",
       "       [0.5       , 0.        , 0.54545455, 0.33333333, 0.        ,\n",
       "        0.        , 0.14285714],\n",
       "       [0.        , 0.        , 0.54545455, 0.        , 0.125     ,\n",
       "        0.16666667, 0.07142857],\n",
       "       [0.5       , 0.        , 0.63636364, 0.16666667, 0.        ,\n",
       "        0.16666667, 0.21428571],\n",
       "       [0.5       , 0.        , 0.54545455, 0.        , 0.        ,\n",
       "        0.        , 0.07142857],\n",
       "       [0.5       , 0.        , 0.54545455, 0.16666667, 0.125     ,\n",
       "        0.        , 0.28571429],\n",
       "       [0.        , 0.        , 0.54545455, 0.        , 0.        ,\n",
       "        0.        , 0.07142857],\n",
       "       [0.        , 0.        , 0.54545455, 0.        , 0.        ,\n",
       "        0.        , 0.07142857]])"
      ]
     },
     "execution_count": 10,
     "metadata": {},
     "output_type": "execute_result"
    }
   ],
   "source": [
    "X_train[0]"
   ]
  },
  {
   "cell_type": "code",
   "execution_count": 11,
   "metadata": {
    "colab": {
     "base_uri": "https://localhost:8080/"
    },
    "id": "UsHtSrSP8QNX",
    "outputId": "92bc893c-4e58-470f-d7ca-82c6c0af0232"
   },
   "outputs": [
    {
     "data": {
      "text/plain": [
       "array([[0.        , 0.        , 0.63636364, 0.        , 0.        ,\n",
       "        0.16666667, 0.07142857],\n",
       "       [0.        , 0.        , 0.63636364, 0.        , 0.        ,\n",
       "        0.16666667, 0.14285714],\n",
       "       [0.5       , 0.        , 0.54545455, 0.16666667, 0.        ,\n",
       "        0.5       , 0.07142857],\n",
       "       [0.5       , 0.        , 0.54545455, 0.16666667, 0.125     ,\n",
       "        0.16666667, 0.21428571],\n",
       "       [0.5       , 0.        , 0.54545455, 0.        , 0.        ,\n",
       "        0.33333333, 0.07142857]])"
      ]
     },
     "execution_count": 11,
     "metadata": {},
     "output_type": "execute_result"
    }
   ],
   "source": [
    "y_train[0]"
   ]
  },
  {
   "cell_type": "code",
   "execution_count": 12,
   "metadata": {
    "colab": {
     "base_uri": "https://localhost:8080/"
    },
    "id": "Bzav_OzQh_Dx",
    "outputId": "921927b5-e3ea-487a-e2ea-01042ec12729",
    "scrolled": true
   },
   "outputs": [
    {
     "data": {
      "text/plain": [
       "(360, 360)"
      ]
     },
     "execution_count": 12,
     "metadata": {},
     "output_type": "execute_result"
    }
   ],
   "source": [
    "len(X_train), len(y_train)"
   ]
  },
  {
   "cell_type": "markdown",
   "metadata": {
    "id": "w_cOXmiWj_Az"
   },
   "source": [
    "### 4) LSTM Model"
   ]
  },
  {
   "cell_type": "markdown",
   "metadata": {
    "id": "X2rRUBjbnJij"
   },
   "source": [
    "#### 4.1 Model Architecture\n",
    "1. For Deep Learning, **the first step** is to define each layer - which layer to put, and which parameters to set. \n",
    "\n",
    "2. **Then** we can train the model : Here we need to define how to train the model - how many epochs, what are the loss functions, what methods to optimize. This process allows the model to learn from the data. By comparing the results predicted by model and the realilty to get the best model.\n",
    "\n",
    "3. **Last Step** is to use the model we trained, to predict the unknowns. Once We get the results, we can try to interpretate, or post-process them to get the insights.\n"
   ]
  },
  {
   "cell_type": "markdown",
   "metadata": {},
   "source": [
    "For this demo, we will train **Two Deep Learning LSTM Models**\n",
    "- **Model 1 - E1D1** : Sequence to Sequence Model with one encoder layer and one decoder layer. \n",
    "\n",
    "- **Model 2 - E2D2** : Sequence to Sequence Model with two encoder layers and two decoder layers. "
   ]
  },
  {
   "cell_type": "code",
   "execution_count": 14,
   "metadata": {},
   "outputs": [
    {
     "name": "stderr",
     "output_type": "stream",
     "text": [
      "2022-07-01 14:38:58.316871: I tensorflow/core/platform/cpu_feature_guard.cc:151] This TensorFlow binary is optimized with oneAPI Deep Neural Network Library (oneDNN) to use the following CPU instructions in performance-critical operations:  AVX2 FMA\n",
      "To enable them in other operations, rebuild TensorFlow with the appropriate compiler flags.\n",
      "2022-07-01 14:39:12.698111: I tensorflow/core/common_runtime/gpu/gpu_device.cc:1525] Created device /job:localhost/replica:0/task:0/device:GPU:0 with 7435 MB memory:  -> device: 0, name: Tesla M60, pci bus id: 0001:00:00.0, compute capability: 5.2\n"
     ]
    },
    {
     "data": {
      "text/plain": [
       "<keras.layers.recurrent_v2.LSTM at 0x7f64f1552280>"
      ]
     },
     "execution_count": 14,
     "metadata": {},
     "output_type": "execute_result"
    }
   ],
   "source": [
    "[10, 7] * [7, 100]"
   ]
  },
  {
   "cell_type": "code",
   "execution_count": 13,
   "metadata": {
    "colab": {
     "base_uri": "https://localhost:8080/"
    },
    "id": "sMYwUsJ8HAtu",
    "outputId": "fc6fcab4-80c9-4be9-c40e-65622b4eea20"
   },
   "outputs": [
    {
     "name": "stderr",
     "output_type": "stream",
     "text": [
      "2022-07-01 10:10:02.596339: I tensorflow/core/platform/cpu_feature_guard.cc:151] This TensorFlow binary is optimized with oneAPI Deep Neural Network Library (oneDNN) to use the following CPU instructions in performance-critical operations:  AVX2 FMA\n",
      "To enable them in other operations, rebuild TensorFlow with the appropriate compiler flags.\n",
      "2022-07-01 10:10:15.281526: I tensorflow/core/common_runtime/gpu/gpu_device.cc:1525] Created device /job:localhost/replica:0/task:0/device:GPU:0 with 7435 MB memory:  -> device: 0, name: Tesla M60, pci bus id: 0001:00:00.0, compute capability: 5.2\n"
     ]
    },
    {
     "name": "stdout",
     "output_type": "stream",
     "text": [
      "Model: \"model\"\n",
      "__________________________________________________________________________________________________\n",
      " Layer (type)                   Output Shape         Param #     Connected to                     \n",
      "==================================================================================================\n",
      " input_1 (InputLayer)           [(None, 10, 7)]      0           []                               \n",
      "                                                                                                  \n",
      " lstm (LSTM)                    [(None, 100),        43200       ['input_1[0][0]']                \n",
      "                                 (None, 100),                                                     \n",
      "                                 (None, 100)]                                                     \n",
      "                                                                                                  \n",
      " repeat_vector (RepeatVector)   (None, 5, 100)       0           ['lstm[0][0]']                   \n",
      "                                                                                                  \n",
      " lstm_1 (LSTM)                  (None, 5, 100)       80400       ['repeat_vector[0][0]',          \n",
      "                                                                  'lstm[0][1]',                   \n",
      "                                                                  'lstm[0][2]']                   \n",
      "                                                                                                  \n",
      " time_distributed (TimeDistribu  (None, 5, 7)        707         ['lstm_1[0][0]']                 \n",
      " ted)                                                                                             \n",
      "                                                                                                  \n",
      "==================================================================================================\n",
      "Total params: 124,307\n",
      "Trainable params: 124,307\n",
      "Non-trainable params: 0\n",
      "__________________________________________________________________________________________________\n"
     ]
    }
   ],
   "source": [
    "# Model 1 Definition: E1D1\n",
    "\n",
    "encoder_inputs = tf.keras.layers.Input(shape=(n_past, n_features))\n",
    "encoder_l1 = tf.keras.layers.LSTM(100, return_state=True)\n",
    "encoder_outputs1 = encoder_l1(encoder_inputs)\n",
    "encoder_states1 = encoder_outputs1[1:]\n",
    "\n",
    "\n",
    "decoder_inputs = tf.keras.layers.RepeatVector(n_future)(encoder_outputs1[0])\n",
    "decoder_l1 = tf.keras.layers.LSTM(100, return_sequences=True)(decoder_inputs,\n",
    "                                                              initial_state = encoder_states1)\n",
    "decoder_outputs1 = tf.keras.layers.TimeDistributed(tf.keras.layers.Dense(n_features))(decoder_l1)\n",
    "\n",
    "##\n",
    "model_e1d1 = tf.keras.models.Model(encoder_inputs,\n",
    "                                   decoder_outputs1)\n",
    "\n",
    "model_e1d1.summary()"
   ]
  },
  {
   "cell_type": "code",
   "execution_count": 14,
   "metadata": {
    "colab": {
     "base_uri": "https://localhost:8080/"
    },
    "id": "ze7iac48h1JV",
    "outputId": "f0ca8ed6-9105-4dde-c25e-46e59ba8712b"
   },
   "outputs": [
    {
     "name": "stdout",
     "output_type": "stream",
     "text": [
      "Model: \"model_1\"\n",
      "__________________________________________________________________________________________________\n",
      " Layer (type)                   Output Shape         Param #     Connected to                     \n",
      "==================================================================================================\n",
      " input_2 (InputLayer)           [(None, 10, 7)]      0           []                               \n",
      "                                                                                                  \n",
      " lstm_2 (LSTM)                  [(None, 10, 100),    43200       ['input_2[0][0]']                \n",
      "                                 (None, 100),                                                     \n",
      "                                 (None, 100)]                                                     \n",
      "                                                                                                  \n",
      " lstm_3 (LSTM)                  [(None, 100),        80400       ['lstm_2[0][0]']                 \n",
      "                                 (None, 100),                                                     \n",
      "                                 (None, 100)]                                                     \n",
      "                                                                                                  \n",
      " repeat_vector_1 (RepeatVector)  (None, 5, 100)      0           ['lstm_3[0][0]']                 \n",
      "                                                                                                  \n",
      " lstm_4 (LSTM)                  (None, 5, 100)       80400       ['repeat_vector_1[0][0]',        \n",
      "                                                                  'lstm_2[0][1]',                 \n",
      "                                                                  'lstm_2[0][2]']                 \n",
      "                                                                                                  \n",
      " lstm_5 (LSTM)                  (None, 5, 100)       80400       ['lstm_4[0][0]',                 \n",
      "                                                                  'lstm_3[0][1]',                 \n",
      "                                                                  'lstm_3[0][2]']                 \n",
      "                                                                                                  \n",
      " time_distributed_1 (TimeDistri  (None, 5, 7)        707         ['lstm_5[0][0]']                 \n",
      " buted)                                                                                           \n",
      "                                                                                                  \n",
      "==================================================================================================\n",
      "Total params: 285,107\n",
      "Trainable params: 285,107\n",
      "Non-trainable params: 0\n",
      "__________________________________________________________________________________________________\n"
     ]
    }
   ],
   "source": [
    "# Model 2 Definition: E2D2\n",
    "\n",
    "encoder_inputs = tf.keras.layers.Input(shape=(n_past, n_features))\n",
    "encoder_l1 = tf.keras.layers.LSTM(100,return_sequences = True, \n",
    "                                  return_state=True)\n",
    "encoder_outputs1 = encoder_l1(encoder_inputs)\n",
    "encoder_states1 = encoder_outputs1[1:]\n",
    "\n",
    "encoder_l2 = tf.keras.layers.LSTM(100, return_state=True)\n",
    "encoder_outputs2 = encoder_l2(encoder_outputs1[0])\n",
    "encoder_states2 = encoder_outputs2[1:]\n",
    "\n",
    "\n",
    "decoder_inputs = tf.keras.layers.RepeatVector(n_future)(encoder_outputs2[0])\n",
    "decoder_l1 = tf.keras.layers.LSTM(100, return_sequences=True)(decoder_inputs,\n",
    "                                                              initial_state = encoder_states1)\n",
    "decoder_l2 = tf.keras.layers.LSTM(100, return_sequences=True)(decoder_l1,\n",
    "                                                              initial_state = encoder_states2)\n",
    "decoder_outputs2 = tf.keras.layers.TimeDistributed(tf.keras.layers.Dense(n_features))(decoder_l2)\n",
    "\n",
    "\n",
    "\n",
    "model_e2d2 = tf.keras.models.Model(encoder_inputs,\n",
    "                                   decoder_outputs2)\n",
    "#\n",
    "model_e2d2.summary()"
   ]
  },
  {
   "cell_type": "markdown",
   "metadata": {
    "id": "1Q0prbvcnq6W"
   },
   "source": [
    "#### 4.2 Training the models\n"
   ]
  },
  {
   "cell_type": "code",
   "execution_count": 15,
   "metadata": {
    "id": "L4Ee4kb5HuzM"
   },
   "outputs": [
    {
     "name": "stderr",
     "output_type": "stream",
     "text": [
      "2022-07-01 10:10:32.606208: I tensorflow/stream_executor/cuda/cuda_dnn.cc:368] Loaded cuDNN version 8201\n"
     ]
    }
   ],
   "source": [
    "# Define GPU\n",
    "gpu_strategy = tf.distribute.get_strategy()\n",
    "\n",
    "with gpu_strategy.scope():\n",
    "    \n",
    "\n",
    "    # define learning rate\n",
    "    reduce_lr = tf.keras.callbacks.LearningRateScheduler(lambda x: 1e-3 * 0.90 ** x)\n",
    "\n",
    "    ######################\n",
    "    ##### Model 1 ########\n",
    "    ######################\n",
    "    # define optimization method\n",
    "    model_e1d1.compile(optimizer=tf.keras.optimizers.Adam(), \n",
    "                       loss=tf.keras.losses.Huber())\n",
    "    \n",
    "    # define traing method\n",
    "    history_e1d1=model_e1d1.fit(X_train,\n",
    "                                y_train,\n",
    "                                epochs=25,\n",
    "                                validation_data=(X_test,y_test),\n",
    "                                batch_size=32,\n",
    "                                verbose=0,\n",
    "                                callbacks=[reduce_lr])\n",
    "\n",
    "    ######################\n",
    "    ##### Model 2 ########\n",
    "    ######################\n",
    "    # define optimization method\n",
    "    model_e2d2.compile(optimizer=tf.keras.optimizers.Adam(), \n",
    "                       loss=tf.keras.losses.Huber())\n",
    "    \n",
    "     # define traing method\n",
    "    history_e2d2=model_e2d2.fit(X_train,\n",
    "                                y_train,\n",
    "                                epochs=25,\n",
    "                                validation_data=(X_test,y_test),\n",
    "                                batch_size=32,\n",
    "                                verbose=0,\n",
    "                                callbacks=[reduce_lr])"
   ]
  },
  {
   "cell_type": "markdown",
   "metadata": {
    "id": "m-w0gYG-oep8"
   },
   "source": [
    "#### 4.3 Checking Error"
   ]
  },
  {
   "cell_type": "code",
   "execution_count": 16,
   "metadata": {},
   "outputs": [
    {
     "data": {
      "image/png": "[encoded data removed]",
      "text/plain": [
       "<Figure size 432x288 with 1 Axes>"
      ]
     },
     "metadata": {
      "needs_background": "light"
     },
     "output_type": "display_data"
    }
   ],
   "source": [
    "# Error Analysis for Model 1\n",
    "\n",
    "plt.plot(history_e1d1.history['loss'])\n",
    "plt.plot(history_e1d1.history['val_loss'])\n",
    "plt.title(\"E1D1 Model Loss\")\n",
    "plt.xlabel('Epochs')\n",
    "plt.ylabel('Loss')\n",
    "plt.legend(['Train', 'Valid'])\n",
    "plt.show()"
   ]
  },
  {
   "cell_type": "code",
   "execution_count": 17,
   "metadata": {},
   "outputs": [
    {
     "data": {
      "image/png": "[encoded data removed]",
      "text/plain": [
       "<Figure size 432x288 with 1 Axes>"
      ]
     },
     "metadata": {
      "needs_background": "light"
     },
     "output_type": "display_data"
    }
   ],
   "source": [
    "# Error Analysis for Model 2\n",
    "\n",
    "plt.plot(history_e2d2.history['loss'])\n",
    "plt.plot(history_e2d2.history['val_loss'])\n",
    "plt.title(\"E2D2 Model Loss\")\n",
    "plt.xlabel('Epochs')\n",
    "plt.ylabel('Loss')\n",
    "plt.legend(['Train', 'Valid'])\n",
    "plt.show()"
   ]
  },
  {
   "cell_type": "markdown",
   "metadata": {
    "id": "QisYSkLCoJuC"
   },
   "source": [
    "#### 4.4 Prediction on test set"
   ]
  },
  {
   "cell_type": "code",
   "execution_count": 18,
   "metadata": {
    "id": "TeRz6saSJASa"
   },
   "outputs": [
    {
     "data": {
      "text/plain": [
       "array([[ 0.2657032 ,  0.02109489,  0.32228175,  0.10558844,  0.0759377 ,\n",
       "         0.12833036,  0.14161158],\n",
       "       [ 0.27345437,  0.00702652,  0.3591442 ,  0.10409012,  0.07548866,\n",
       "         0.14644086,  0.12828523],\n",
       "       [ 0.27794605, -0.00264779,  0.37958798,  0.10035673,  0.07390881,\n",
       "         0.15313771,  0.11601344],\n",
       "       [ 0.2803792 , -0.00935071,  0.3895485 ,  0.09563474,  0.07207446,\n",
       "         0.15367903,  0.10541991],\n",
       "       [ 0.281516  , -0.01398542,  0.39301184,  0.09072449,  0.07033985,\n",
       "         0.15113805,  0.09664373]], dtype=float32)"
      ]
     },
     "execution_count": 18,
     "metadata": {},
     "output_type": "execute_result"
    }
   ],
   "source": [
    "# Prediction on test set using Model 1\n",
    "\n",
    "pred_e1d1=model_e1d1.predict(X_train)\n",
    "pred1_e1d1=model_e1d1.predict(X_test)\n",
    "\n",
    "pred1_e1d1[0]"
   ]
  },
  {
   "cell_type": "code",
   "execution_count": 19,
   "metadata": {
    "colab": {
     "base_uri": "https://localhost:8080/"
    },
    "id": "TqRGoDgLA_ke",
    "outputId": "ad3848f8-70e1-441a-afa4-da2cba43c2ab",
    "scrolled": false
   },
   "outputs": [
    {
     "data": {
      "text/plain": [
       "(111, 111)"
      ]
     },
     "execution_count": 19,
     "metadata": {},
     "output_type": "execute_result"
    }
   ],
   "source": [
    "len(X_test), len(pred1_e1d1)"
   ]
  },
  {
   "cell_type": "code",
   "execution_count": 20,
   "metadata": {},
   "outputs": [
    {
     "data": {
      "text/plain": [
       "array([[ 2.79523224e-01, -1.14984484e-02,  3.70163739e-01,\n",
       "         1.19998299e-01,  8.42699185e-02,  1.18101202e-01,\n",
       "         1.08208962e-01],\n",
       "       [ 2.90278822e-01, -8.14231578e-03,  3.77403378e-01,\n",
       "         1.09127976e-01,  8.37130025e-02,  1.23425938e-01,\n",
       "         1.09710380e-01],\n",
       "       [ 2.99795359e-01, -3.92830651e-03,  3.80104423e-01,\n",
       "         1.01873375e-01,  8.47241208e-02,  1.28427371e-01,\n",
       "         1.11569688e-01],\n",
       "       [ 3.07802916e-01,  1.43837184e-04,  3.80036235e-01,\n",
       "         9.83157679e-02,  8.64914730e-02,  1.32627845e-01,\n",
       "         1.14523672e-01],\n",
       "       [ 3.14246923e-01,  3.57580744e-03,  3.78433228e-01,\n",
       "         9.79799256e-02,  8.84724185e-02,  1.35841385e-01,\n",
       "         1.18861273e-01]], dtype=float32)"
      ]
     },
     "execution_count": 20,
     "metadata": {},
     "output_type": "execute_result"
    }
   ],
   "source": [
    "# Prediction on test set using Model 2\n",
    "\n",
    "pred_e2d2=model_e2d2.predict(X_train)\n",
    "pred1_e2d2=model_e2d2.predict(X_test)\n",
    "\n",
    "pred1_e2d2[0]"
   ]
  },
  {
   "cell_type": "markdown",
   "metadata": {
    "id": "yuL-6375oNuu"
   },
   "source": [
    "#### 4.5 Inverse Scaling of the predicted values"
   ]
  },
  {
   "cell_type": "markdown",
   "metadata": {},
   "source": [
    "- Recall that we did the Standard Scaling before. Now we need to inverse the data to its orginial scale"
   ]
  },
  {
   "cell_type": "code",
   "execution_count": 83,
   "metadata": {
    "id": "kka5WrCVKAFx"
   },
   "outputs": [],
   "source": [
    "for index,i in enumerate(train_df.columns):\n",
    "    scaler = scalers['scaler_'+i]\n",
    "    pred1_e1d1[:,:,index]=scaler.inverse_transform(pred1_e1d1[:,:,index])\n",
    "    pred_e1d1[:,:,index]=scaler.inverse_transform(pred_e1d1[:,:,index])\n",
    "    \n",
    "    pred1_e2d2[:,:,index]=scaler.inverse_transform(pred1_e2d2[:,:,index])\n",
    "    pred_e2d2[:,:,index]=scaler.inverse_transform(pred_e2d2[:,:,index])\n",
    "    \n",
    "    y_train[:,:,index]=scaler.inverse_transform(y_train[:,:,index])\n",
    "    y_test[:,:,index]=scaler.inverse_transform(y_test[:,:,index])"
   ]
  },
  {
   "cell_type": "markdown",
   "metadata": {
    "id": "m-w0gYG-oep8"
   },
   "source": [
    "#### 4.6 Model Performance Evaluation"
   ]
  },
  {
   "cell_type": "code",
   "execution_count": 85,
   "metadata": {
    "scrolled": true
   },
   "outputs": [
    {
     "name": "stdout",
     "output_type": "stream",
     "text": [
      "nb_ip\n",
      "Day  1 :\n",
      "MAE-E1D1 :  3.4538541141122874, MAE-E2D2 :  3.5570016013513697\n",
      "Day  2 :\n",
      "MAE-E1D1 :  3.443806186761006, MAE-E2D2 :  3.328872085797905\n",
      "Day  3 :\n",
      "MAE-E1D1 :  3.374585578937342, MAE-E2D2 :  3.0911567506223623\n",
      "Day  4 :\n",
      "MAE-E1D1 :  3.2393189078510396, MAE-E2D2 :  2.889867132252986\n",
      "Day  5 :\n",
      "MAE-E1D1 :  3.044686400064147, MAE-E2D2 :  2.7306607347903866\n",
      "\n",
      "\n",
      "avg_time_interval\n",
      "Day  1 :\n",
      "MAE-E1D1 :  0.07111157354493026, MAE-E2D2 :  0.0741373664229223\n",
      "Day  2 :\n",
      "MAE-E1D1 :  0.13826256935106646, MAE-E2D2 :  0.11847214555681342\n",
      "Day  3 :\n",
      "MAE-E1D1 :  0.20616657456549087, MAE-E2D2 :  0.13989420456461388\n",
      "Day  4 :\n",
      "MAE-E1D1 :  0.2708034630459134, MAE-E2D2 :  0.15028173026472036\n",
      "Day  5 :\n",
      "MAE-E1D1 :  0.3495084006007355, MAE-E2D2 :  0.1544444487236514\n",
      "\n",
      "\n",
      "nb_logon\n",
      "Day  1 :\n",
      "MAE-E1D1 :  31801.389351873113, MAE-E2D2 :  31790.423956389473\n",
      "Day  2 :\n",
      "MAE-E1D1 :  31799.39628314028, MAE-E2D2 :  31788.878607721614\n",
      "Day  3 :\n",
      "MAE-E1D1 :  31795.533209470235, MAE-E2D2 :  31785.48719651628\n",
      "Day  4 :\n",
      "MAE-E1D1 :  31795.733719476375, MAE-E2D2 :  31786.13779064216\n",
      "Day  5 :\n",
      "MAE-E1D1 :  31793.86067380999, MAE-E2D2 :  31784.702722228394\n",
      "\n",
      "\n",
      "nb_event_categories\n",
      "Day  1 :\n",
      "MAE-E1D1 :  170.21625075481907, MAE-E2D2 :  167.716707753663\n",
      "Day  2 :\n",
      "MAE-E1D1 :  170.81169616113795, MAE-E2D2 :  169.04529284486676\n",
      "Day  3 :\n",
      "MAE-E1D1 :  171.17629671568918, MAE-E2D2 :  169.9759440894174\n",
      "Day  4 :\n",
      "MAE-E1D1 :  170.97618565228905, MAE-E2D2 :  170.49236175801494\n",
      "Day  5 :\n",
      "MAE-E1D1 :  170.651190271472, MAE-E2D2 :  170.94580876473154\n",
      "\n",
      "\n",
      "nb_domain\n",
      "Day  1 :\n",
      "MAE-E1D1 :  70.38414396153819, MAE-E2D2 :  67.93298437512748\n",
      "Day  2 :\n",
      "MAE-E1D1 :  70.61286406587847, MAE-E2D2 :  68.14799753156039\n",
      "Day  3 :\n",
      "MAE-E1D1 :  71.14538659494703, MAE-E2D2 :  68.5390830630123\n",
      "Day  4 :\n",
      "MAE-E1D1 :  71.25879870901014, MAE-E2D2 :  68.46754790532707\n",
      "Day  5 :\n",
      "MAE-E1D1 :  71.37635316116975, MAE-E2D2 :  68.46156034139123\n",
      "\n",
      "\n",
      "nb_fail_logon\n",
      "Day  1 :\n",
      "MAE-E1D1 :  37.75675888521837, MAE-E2D2 :  37.47381539746086\n",
      "Day  2 :\n",
      "MAE-E1D1 :  37.66539883967673, MAE-E2D2 :  37.33863677600823\n",
      "Day  3 :\n",
      "MAE-E1D1 :  37.24122988764602, MAE-E2D2 :  36.8807575962331\n",
      "Day  4 :\n",
      "MAE-E1D1 :  37.1871496450783, MAE-E2D2 :  36.80762712790234\n",
      "Day  5 :\n",
      "MAE-E1D1 :  36.81122531867263, MAE-E2D2 :  36.46884867696479\n",
      "\n",
      "\n",
      "nb_programs\n",
      "Day  1 :\n",
      "MAE-E1D1 :  1316.309699926931, MAE-E2D2 :  1309.7819323539734\n",
      "Day  2 :\n",
      "MAE-E1D1 :  1319.681416086041, MAE-E2D2 :  1313.7232921949708\n",
      "Day  3 :\n",
      "MAE-E1D1 :  1327.700204783147, MAE-E2D2 :  1321.439543752387\n",
      "Day  4 :\n",
      "MAE-E1D1 :  1326.2347562491598, MAE-E2D2 :  1319.3116750056201\n",
      "Day  5 :\n",
      "MAE-E1D1 :  1334.2418366945026, MAE-E2D2 :  1326.8125819026834\n",
      "\n",
      "\n"
     ]
    }
   ],
   "source": [
    "\n",
    "for index,i in enumerate(train_df.columns):\n",
    "  print(i)\n",
    "  for j in range(1,6):\n",
    "    print(\"Day \",j,\":\")\n",
    "    print(\"MAE-E1D1 : \",mean_absolute_error(y_test[:,j-1,index],pred1_e1d1[:,j-1,index]),end=\", \")\n",
    "    print(\"MAE-E2D2 : \",mean_absolute_error(y_test[:,j-1,index],pred1_e2d2[:,j-1,index]))\n",
    "  print()\n",
    "  print()\n",
    "  "
   ]
  },
  {
   "cell_type": "markdown",
   "metadata": {
    "id": "Jcim8gUeomHl"
   },
   "source": [
    "From the above output we can observe that in some cases E2D2 model has \n",
    "performed better than E1D1 model with less error. Training different models with different number of stacked layers and creating an ensemble model also performs well. \n",
    "\n",
    "Note: The results vary with respect to the dataset. If we stack more layers it may also lead to overfitting. So the no of layers to be stackes acts as a hyper parameter. "
   ]
  }
 ],
 "metadata": {
  "colab": {
   "name": "Anomaly Detection - Deep Learning.ipynb",
   "provenance": []
  },
  "kernelspec": {
   "display_name": "Python 3.8 - Pytorch and Tensorflow",
   "language": "python",
   "name": "azureml_py38_pt_tf"
  },
  "language_info": {
   "codemirror_mode": {
    "name": "ipython",
    "version": 3
   },
   "file_extension": ".py",
   "mimetype": "text/x-python",
   "name": "python",
   "nbconvert_exporter": "python",
   "pygments_lexer": "ipython3",
   "version": "3.8.5"
  }
 },
 "nbformat": 4,
 "nbformat_minor": 1
}
